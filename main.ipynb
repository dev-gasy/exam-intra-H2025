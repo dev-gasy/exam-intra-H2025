{
 "cells": [
  {
   "cell_type": "raw",
   "metadata": {
    "vscode": {
     "languageId": "raw"
    }
   },
   "source": [
    "# Web Scraping - Fleur Quebec"
   ]
  },
  {
   "cell_type": "raw",
   "metadata": {
    "vscode": {
     "languageId": "raw"
    }
   },
   "source": [
    "!source .venv/bin/activate && pip install pandas requests beautifulsoup4"
   ]
  },
  {
   "cell_type": "code",
   "execution_count": 2,
   "metadata": {
    "ExecuteTime": {
     "end_time": "2025-07-03T01:56:49.234147Z",
     "start_time": "2025-07-03T01:56:49.232388Z"
    }
   },
   "outputs": [
    {
     "ename": "ModuleNotFoundError",
     "evalue": "No module named 'pandas'",
     "output_type": "error",
     "traceback": [
      "\u001b[31m---------------------------------------------------------------------------\u001b[39m",
      "\u001b[31mModuleNotFoundError\u001b[39m                       Traceback (most recent call last)",
      "\u001b[36mCell\u001b[39m\u001b[36m \u001b[39m\u001b[32mIn[2]\u001b[39m\u001b[32m, line 6\u001b[39m\n\u001b[32m      3\u001b[39m \u001b[38;5;28;01mimport\u001b[39;00m\u001b[38;5;250m \u001b[39m\u001b[34;01mos\u001b[39;00m\n\u001b[32m      4\u001b[39m \u001b[38;5;28;01mimport\u001b[39;00m\u001b[38;5;250m \u001b[39m\u001b[34;01mtime\u001b[39;00m\n\u001b[32m----> \u001b[39m\u001b[32m6\u001b[39m \u001b[38;5;28;01mimport\u001b[39;00m\u001b[38;5;250m \u001b[39m\u001b[34;01mpandas\u001b[39;00m\u001b[38;5;250m \u001b[39m\u001b[38;5;28;01mas\u001b[39;00m\u001b[38;5;250m \u001b[39m\u001b[34;01mpd\u001b[39;00m\n\u001b[32m      7\u001b[39m \u001b[38;5;28;01mimport\u001b[39;00m\u001b[38;5;250m \u001b[39m\u001b[34;01mrequests\u001b[39;00m\n\u001b[32m      8\u001b[39m \u001b[38;5;28;01mfrom\u001b[39;00m\u001b[38;5;250m \u001b[39m\u001b[34;01mbs4\u001b[39;00m\u001b[38;5;250m \u001b[39m\u001b[38;5;28;01mimport\u001b[39;00m BeautifulSoup\n",
      "\u001b[31mModuleNotFoundError\u001b[39m: No module named 'pandas'"
     ]
    }
   ],
   "source": [
    "import html\n",
    "import json\n",
    "import os\n",
    "import time\n",
    "\n",
    "import pandas as pd\n",
    "import requests\n",
    "from bs4 import BeautifulSoup"
   ]
  },
  {
   "cell_type": "code",
   "execution_count": 2,
   "metadata": {
    "ExecuteTime": {
     "end_time": "2025-07-03T01:56:49.253040Z",
     "start_time": "2025-07-03T01:56:49.251639Z"
    }
   },
   "outputs": [],
   "source": [
    "# Configuration des headers pour simuler un navigateur\n",
    "headers = {\n",
    "    'User-Agent': 'Mozilla/5.0 (Windows NT 10.0; Win64; x64) AppleWebKit/537.36 (KHTML, like Gecko) Chrome/79.0.3945.130 Safari/537.36'\n",
    "}"
   ]
  },
  {
   "cell_type": "code",
   "execution_count": 3,
   "metadata": {
    "ExecuteTime": {
     "end_time": "2025-07-03T01:56:49.261322Z",
     "start_time": "2025-07-03T01:56:49.259268Z"
    }
   },
   "outputs": [],
   "source": [
    "# Fonction pour rechercher des produits\n",
    "def recherche_produit(data, products_list):\n",
    "    if isinstance(data, dict):\n",
    "        # Si c'est un produit, l'ajouter\n",
    "        if 'bestprice' in data and 'title' in data:\n",
    "            produit = {\n",
    "                'titre': data.get('title', 'Titre non disponible'),\n",
    "                'prix_solde': data.get('bestprice'),\n",
    "                'prix_avant_reduction': data.get('oldprice'),\n",
    "                'note': float(data.get('rate', 0)) if data.get('rate') else None,\n",
    "                'lien_image': data.get('preview', '')\n",
    "            }\n",
    "            products_list.append(produit)\n",
    "\n",
    "        # Continuer la recherche dans les valeurs\n",
    "        for value in data.values():\n",
    "            recherche_produit(value, products_list)\n",
    "\n",
    "    elif isinstance(data, list):\n",
    "        # Parcourir chaque élément de la liste\n",
    "        for item in data:\n",
    "            recherche_produit(item, products_list)"
   ]
  },
  {
   "cell_type": "code",
   "execution_count": 4,
   "metadata": {
    "ExecuteTime": {
     "end_time": "2025-07-03T01:56:49.268516Z",
     "start_time": "2025-07-03T01:56:49.266675Z"
    }
   },
   "outputs": [],
   "source": [
    "# Fonction pour extraire le contenu d'une page web\n",
    "def extrait_contenu_page(contenu):\n",
    "    soup = BeautifulSoup(contenu, \"html.parser\")\n",
    "    app_div = soup.find('div', {'id': 'app'})\n",
    "\n",
    "    try:\n",
    "        if app_div is None:\n",
    "            return []\n",
    "        data_page = app_div.attrs.get('data-page') if hasattr(app_div, 'attrs') else None\n",
    "\n",
    "        if not data_page or not isinstance(data_page, str):\n",
    "            return []\n",
    "        \n",
    "        decoded_data = html.unescape(data_page)\n",
    "        page_data = json.loads(decoded_data)\n",
    "\n",
    "        products = []\n",
    "        recherche_produit(page_data, products)\n",
    "\n",
    "        return products\n",
    "\n",
    "    except Exception:\n",
    "        return []"
   ]
  },
  {
   "cell_type": "code",
   "execution_count": 5,
   "metadata": {
    "ExecuteTime": {
     "end_time": "2025-07-03T01:56:49.276110Z",
     "start_time": "2025-07-03T01:56:49.274030Z"
    }
   },
   "outputs": [],
   "source": [
    "# Fonction principale pour récupérer la liste des fleurs\n",
    "def get_products(total_pages: int = 2):\n",
    "    base_url = \"https://fleur-quebec.com/catalog/fleurs/bouquets-melanges\"\n",
    "    flowers_list = []\n",
    "\n",
    "    for page in range(1, total_pages + 1):\n",
    "        page_url = f\"{base_url}?page={page}\"\n",
    "        print(f\"Scraping de la page {page_url}\")\n",
    "\n",
    "        try:\n",
    "            response = requests.get(page_url, headers=headers, timeout=15)\n",
    "            if response.status_code != 200:\n",
    "                print(f\"Erreur HTTP {response.status_code} pour la page {page}\")\n",
    "                continue\n",
    "\n",
    "            products_temp = extrait_contenu_page(response.text)\n",
    "\n",
    "            if not products_temp:\n",
    "                print(f\"Aucun produit trouvé sur la page {page}\")\n",
    "                break\n",
    "\n",
    "            flowers_list += products_temp\n",
    "            print(f\"{len(products_temp)} produits trouvés sur la page {page}\")\n",
    "\n",
    "            # Pause pour éviter de surcharger le serveur\n",
    "            time.sleep(2)\n",
    "\n",
    "        except Exception as e:\n",
    "            print(f\"Erreur lors du scraping de la page {page}: {e}\")\n",
    "            continue\n",
    "\n",
    "    return flowers_list"
   ]
  },
  {
   "cell_type": "code",
   "execution_count": null,
   "metadata": {
    "ExecuteTime": {
     "end_time": "2025-07-03T01:56:55.447498Z",
     "start_time": "2025-07-03T01:56:49.281685Z"
    }
   },
   "outputs": [],
   "source": [
    "# Exécution du scraping\n",
    "print(\"Début du scraping...\")\n",
    "\n",
    "# Récupération des produits (2 pages par défaut)\n",
    "produits = get_products(2)\n",
    "print(f\"Résultats: {len(produits)} produits extraits au total\")\n"
   ]
  },
  {
   "cell_type": "code",
   "execution_count": null,
   "metadata": {
    "ExecuteTime": {
     "end_time": "2025-07-03T01:56:55.470777Z",
     "start_time": "2025-07-03T01:56:55.466756Z"
    }
   },
   "outputs": [],
   "source": [
    "produits"
   ]
  },
  {
   "cell_type": "code",
   "execution_count": 8,
   "metadata": {
    "ExecuteTime": {
     "end_time": "2025-07-03T01:56:55.487136Z",
     "start_time": "2025-07-03T01:56:55.484991Z"
    }
   },
   "outputs": [],
   "source": [
    "# Traitement des données et création du DataFrame\n",
    "df = pd.DataFrame(produits) if produits else pd.DataFrame()"
   ]
  },
  {
   "cell_type": "code",
   "execution_count": null,
   "metadata": {
    "ExecuteTime": {
     "end_time": "2025-07-03T01:56:55.500176Z",
     "start_time": "2025-07-03T01:56:55.495261Z"
    }
   },
   "outputs": [],
   "source": [
    "df"
   ]
  },
  {
   "cell_type": "code",
   "execution_count": null,
   "metadata": {
    "ExecuteTime": {
     "end_time": "2025-07-03T01:56:55.530948Z",
     "start_time": "2025-07-03T01:56:55.527686Z"
    }
   },
   "outputs": [],
   "source": [
    "df.head()"
   ]
  },
  {
   "cell_type": "code",
   "execution_count": null,
   "metadata": {
    "ExecuteTime": {
     "end_time": "2025-07-03T01:56:55.591978Z",
     "start_time": "2025-07-03T01:56:55.589337Z"
    }
   },
   "outputs": [],
   "source": [
    "# Sauvegarde des données en CSV\n",
    "if not df.empty:\n",
    "    # Sauvegardons le résultat dans un fichier CSV\n",
    "    filename = 'resultat.csv'\n",
    "    df.to_csv(filename, index=False, encoding='utf-8')\n",
    "\n",
    "    print(f\"Données sauvegardées dans '{filename}'\")\n",
    "\n",
    "    # Affichons le chemin complet du fichier\n",
    "    full_path = os.path.abspath(filename)\n",
    "    print(f\"Chemin complet : {full_path}\")\n",
    "\n",
    "else:\n",
    "    print(\"Aucune donnée à sauvegarder\")\n"
   ]
  },
  {
   "cell_type": "raw",
   "metadata": {
    "vscode": {
     "languageId": "raw"
    }
   },
   "source": []
  }
 ],
 "metadata": {
  "kernelspec": {
   "display_name": ".venv",
   "language": "python",
   "name": "python3"
  },
  "language_info": {
   "codemirror_mode": {
    "name": "ipython",
    "version": 3
   },
   "file_extension": ".py",
   "mimetype": "text/x-python",
   "name": "python",
   "nbconvert_exporter": "python",
   "pygments_lexer": "ipython3",
   "version": "3.13.5"
  }
 },
 "nbformat": 4,
 "nbformat_minor": 4
}
